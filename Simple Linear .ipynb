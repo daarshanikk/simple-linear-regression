{
 "cells": [
  {
   "cell_type": "markdown",
   "id": "eb8f547a",
   "metadata": {},
   "source": [
    "# 1) Delivery_time -> Predict delivery time using sorting time "
   ]
  },
  {
   "cell_type": "code",
   "execution_count": 1,
   "id": "37f14440",
   "metadata": {},
   "outputs": [],
   "source": [
    "import pandas as pd\n",
    "import numpy as np\n",
    "import matplotlib.pyplot as plt\n",
    "import statsmodels.formula.api as smf\n",
    "import seaborn as sns\n",
    "import warnings\n",
    "warnings.filterwarnings('ignore')"
   ]
  },
  {
   "cell_type": "code",
   "execution_count": 2,
   "id": "2bf567fd",
   "metadata": {},
   "outputs": [
    {
     "data": {
      "text/html": [
       "<div>\n",
       "<style scoped>\n",
       "    .dataframe tbody tr th:only-of-type {\n",
       "        vertical-align: middle;\n",
       "    }\n",
       "\n",
       "    .dataframe tbody tr th {\n",
       "        vertical-align: top;\n",
       "    }\n",
       "\n",
       "    .dataframe thead th {\n",
       "        text-align: right;\n",
       "    }\n",
       "</style>\n",
       "<table border=\"1\" class=\"dataframe\">\n",
       "  <thead>\n",
       "    <tr style=\"text-align: right;\">\n",
       "      <th></th>\n",
       "      <th>Delivery Time</th>\n",
       "      <th>Sorting Time</th>\n",
       "    </tr>\n",
       "  </thead>\n",
       "  <tbody>\n",
       "    <tr>\n",
       "      <th>0</th>\n",
       "      <td>21.00</td>\n",
       "      <td>10</td>\n",
       "    </tr>\n",
       "    <tr>\n",
       "      <th>1</th>\n",
       "      <td>13.50</td>\n",
       "      <td>4</td>\n",
       "    </tr>\n",
       "    <tr>\n",
       "      <th>2</th>\n",
       "      <td>19.75</td>\n",
       "      <td>6</td>\n",
       "    </tr>\n",
       "    <tr>\n",
       "      <th>3</th>\n",
       "      <td>24.00</td>\n",
       "      <td>9</td>\n",
       "    </tr>\n",
       "    <tr>\n",
       "      <th>4</th>\n",
       "      <td>29.00</td>\n",
       "      <td>10</td>\n",
       "    </tr>\n",
       "    <tr>\n",
       "      <th>5</th>\n",
       "      <td>15.35</td>\n",
       "      <td>6</td>\n",
       "    </tr>\n",
       "    <tr>\n",
       "      <th>6</th>\n",
       "      <td>19.00</td>\n",
       "      <td>7</td>\n",
       "    </tr>\n",
       "    <tr>\n",
       "      <th>7</th>\n",
       "      <td>9.50</td>\n",
       "      <td>3</td>\n",
       "    </tr>\n",
       "    <tr>\n",
       "      <th>8</th>\n",
       "      <td>17.90</td>\n",
       "      <td>10</td>\n",
       "    </tr>\n",
       "    <tr>\n",
       "      <th>9</th>\n",
       "      <td>18.75</td>\n",
       "      <td>9</td>\n",
       "    </tr>\n",
       "    <tr>\n",
       "      <th>10</th>\n",
       "      <td>19.83</td>\n",
       "      <td>8</td>\n",
       "    </tr>\n",
       "    <tr>\n",
       "      <th>11</th>\n",
       "      <td>10.75</td>\n",
       "      <td>4</td>\n",
       "    </tr>\n",
       "    <tr>\n",
       "      <th>12</th>\n",
       "      <td>16.68</td>\n",
       "      <td>7</td>\n",
       "    </tr>\n",
       "    <tr>\n",
       "      <th>13</th>\n",
       "      <td>11.50</td>\n",
       "      <td>3</td>\n",
       "    </tr>\n",
       "    <tr>\n",
       "      <th>14</th>\n",
       "      <td>12.03</td>\n",
       "      <td>3</td>\n",
       "    </tr>\n",
       "    <tr>\n",
       "      <th>15</th>\n",
       "      <td>14.88</td>\n",
       "      <td>4</td>\n",
       "    </tr>\n",
       "    <tr>\n",
       "      <th>16</th>\n",
       "      <td>13.75</td>\n",
       "      <td>6</td>\n",
       "    </tr>\n",
       "    <tr>\n",
       "      <th>17</th>\n",
       "      <td>18.11</td>\n",
       "      <td>7</td>\n",
       "    </tr>\n",
       "    <tr>\n",
       "      <th>18</th>\n",
       "      <td>8.00</td>\n",
       "      <td>2</td>\n",
       "    </tr>\n",
       "    <tr>\n",
       "      <th>19</th>\n",
       "      <td>17.83</td>\n",
       "      <td>7</td>\n",
       "    </tr>\n",
       "    <tr>\n",
       "      <th>20</th>\n",
       "      <td>21.50</td>\n",
       "      <td>5</td>\n",
       "    </tr>\n",
       "  </tbody>\n",
       "</table>\n",
       "</div>"
      ],
      "text/plain": [
       "    Delivery Time  Sorting Time\n",
       "0           21.00            10\n",
       "1           13.50             4\n",
       "2           19.75             6\n",
       "3           24.00             9\n",
       "4           29.00            10\n",
       "5           15.35             6\n",
       "6           19.00             7\n",
       "7            9.50             3\n",
       "8           17.90            10\n",
       "9           18.75             9\n",
       "10          19.83             8\n",
       "11          10.75             4\n",
       "12          16.68             7\n",
       "13          11.50             3\n",
       "14          12.03             3\n",
       "15          14.88             4\n",
       "16          13.75             6\n",
       "17          18.11             7\n",
       "18           8.00             2\n",
       "19          17.83             7\n",
       "20          21.50             5"
      ]
     },
     "execution_count": 2,
     "metadata": {},
     "output_type": "execute_result"
    }
   ],
   "source": [
    "Delivery = pd.read_csv('C:\\\\Users\\\\lenovo\\\\Downloads\\\\delivery_time.csv')\n",
    "Delivery"
   ]
  },
  {
   "cell_type": "code",
   "execution_count": 3,
   "id": "3b0d1557",
   "metadata": {},
   "outputs": [
    {
     "data": {
      "text/html": [
       "<div>\n",
       "<style scoped>\n",
       "    .dataframe tbody tr th:only-of-type {\n",
       "        vertical-align: middle;\n",
       "    }\n",
       "\n",
       "    .dataframe tbody tr th {\n",
       "        vertical-align: top;\n",
       "    }\n",
       "\n",
       "    .dataframe thead th {\n",
       "        text-align: right;\n",
       "    }\n",
       "</style>\n",
       "<table border=\"1\" class=\"dataframe\">\n",
       "  <thead>\n",
       "    <tr style=\"text-align: right;\">\n",
       "      <th></th>\n",
       "      <th>Delivery Time</th>\n",
       "      <th>Sorting Time</th>\n",
       "    </tr>\n",
       "  </thead>\n",
       "  <tbody>\n",
       "    <tr>\n",
       "      <th>0</th>\n",
       "      <td>21.00</td>\n",
       "      <td>10</td>\n",
       "    </tr>\n",
       "    <tr>\n",
       "      <th>1</th>\n",
       "      <td>13.50</td>\n",
       "      <td>4</td>\n",
       "    </tr>\n",
       "    <tr>\n",
       "      <th>2</th>\n",
       "      <td>19.75</td>\n",
       "      <td>6</td>\n",
       "    </tr>\n",
       "    <tr>\n",
       "      <th>3</th>\n",
       "      <td>24.00</td>\n",
       "      <td>9</td>\n",
       "    </tr>\n",
       "    <tr>\n",
       "      <th>4</th>\n",
       "      <td>29.00</td>\n",
       "      <td>10</td>\n",
       "    </tr>\n",
       "  </tbody>\n",
       "</table>\n",
       "</div>"
      ],
      "text/plain": [
       "   Delivery Time  Sorting Time\n",
       "0          21.00            10\n",
       "1          13.50             4\n",
       "2          19.75             6\n",
       "3          24.00             9\n",
       "4          29.00            10"
      ]
     },
     "execution_count": 3,
     "metadata": {},
     "output_type": "execute_result"
    }
   ],
   "source": [
    "Delivery.head()"
   ]
  },
  {
   "cell_type": "code",
   "execution_count": 4,
   "id": "0c5d76c3",
   "metadata": {},
   "outputs": [],
   "source": [
    "Delivery.columns=['delivery_time','sorting_time']"
   ]
  },
  {
   "cell_type": "code",
   "execution_count": 5,
   "id": "e406200b",
   "metadata": {},
   "outputs": [
    {
     "name": "stdout",
     "output_type": "stream",
     "text": [
      "<class 'pandas.core.frame.DataFrame'>\n",
      "RangeIndex: 21 entries, 0 to 20\n",
      "Data columns (total 2 columns):\n",
      " #   Column         Non-Null Count  Dtype  \n",
      "---  ------         --------------  -----  \n",
      " 0   delivery_time  21 non-null     float64\n",
      " 1   sorting_time   21 non-null     int64  \n",
      "dtypes: float64(1), int64(1)\n",
      "memory usage: 464.0 bytes\n"
     ]
    }
   ],
   "source": [
    "#checking missing value\n",
    "Delivery.info()"
   ]
  },
  {
   "cell_type": "markdown",
   "id": "22ae10f0",
   "metadata": {},
   "source": [
    "No Missing value"
   ]
  },
  {
   "cell_type": "code",
   "execution_count": 6,
   "id": "e0807c38",
   "metadata": {},
   "outputs": [
    {
     "data": {
      "text/html": [
       "<div>\n",
       "<style scoped>\n",
       "    .dataframe tbody tr th:only-of-type {\n",
       "        vertical-align: middle;\n",
       "    }\n",
       "\n",
       "    .dataframe tbody tr th {\n",
       "        vertical-align: top;\n",
       "    }\n",
       "\n",
       "    .dataframe thead th {\n",
       "        text-align: right;\n",
       "    }\n",
       "</style>\n",
       "<table border=\"1\" class=\"dataframe\">\n",
       "  <thead>\n",
       "    <tr style=\"text-align: right;\">\n",
       "      <th></th>\n",
       "      <th>delivery_time</th>\n",
       "      <th>sorting_time</th>\n",
       "    </tr>\n",
       "  </thead>\n",
       "  <tbody>\n",
       "  </tbody>\n",
       "</table>\n",
       "</div>"
      ],
      "text/plain": [
       "Empty DataFrame\n",
       "Columns: [delivery_time, sorting_time]\n",
       "Index: []"
      ]
     },
     "execution_count": 6,
     "metadata": {},
     "output_type": "execute_result"
    }
   ],
   "source": [
    "#checking duplicate value\n",
    "Delivery[Delivery.duplicated()]"
   ]
  },
  {
   "cell_type": "markdown",
   "id": "460dfa0b",
   "metadata": {},
   "source": [
    "NNo Duplicated value"
   ]
  },
  {
   "cell_type": "code",
   "execution_count": 7,
   "id": "4039a353",
   "metadata": {},
   "outputs": [
    {
     "data": {
      "text/plain": [
       "<AxesSubplot:>"
      ]
     },
     "execution_count": 7,
     "metadata": {},
     "output_type": "execute_result"
    },
    {
     "data": {
      "image/png": "[encoded data removed]",
      "text/plain": [
       "<Figure size 432x288 with 1 Axes>"
      ]
     },
     "metadata": {
      "needs_background": "light"
     },
     "output_type": "display_data"
    }
   ],
   "source": [
    "#checking outlier\n",
    "Delivery.delivery_time.plot(kind='box')"
   ]
  },
  {
   "cell_type": "code",
   "execution_count": 8,
   "id": "1726c12e",
   "metadata": {},
   "outputs": [
    {
     "data": {
      "text/plain": [
       "<AxesSubplot:>"
      ]
     },
     "execution_count": 8,
     "metadata": {},
     "output_type": "execute_result"
    },
    {
     "data": {
      "image/png": "[encoded data removed]",
      "text/plain": [
       "<Figure size 432x288 with 1 Axes>"
      ]
     },
     "metadata": {
      "needs_background": "light"
     },
     "output_type": "display_data"
    }
   ],
   "source": [
    "Delivery.sorting_time.plot(kind='box')"
   ]
  },
  {
   "cell_type": "markdown",
   "id": "f2c420cb",
   "metadata": {},
   "source": [
    "There are no outliers"
   ]
  },
  {
   "cell_type": "markdown",
   "id": "dc9c23b0",
   "metadata": {},
   "source": [
    "# Applying Transformation"
   ]
  },
  {
   "cell_type": "code",
   "execution_count": 9,
   "id": "c2359851",
   "metadata": {},
   "outputs": [],
   "source": [
    "Delivery['st_sq']=Delivery.sorting_time**2\n",
    "Delivery['st_sqrt']=Delivery.sorting_time**0.5\n",
    "Delivery['st_log']=np.log(Delivery.sorting_time)\n",
    "Delivery['st_sqrt4']=Delivery.sorting_time**0.4"
   ]
  },
  {
   "cell_type": "code",
   "execution_count": 10,
   "id": "25af704f",
   "metadata": {},
   "outputs": [
    {
     "data": {
      "text/html": [
       "<div>\n",
       "<style scoped>\n",
       "    .dataframe tbody tr th:only-of-type {\n",
       "        vertical-align: middle;\n",
       "    }\n",
       "\n",
       "    .dataframe tbody tr th {\n",
       "        vertical-align: top;\n",
       "    }\n",
       "\n",
       "    .dataframe thead th {\n",
       "        text-align: right;\n",
       "    }\n",
       "</style>\n",
       "<table border=\"1\" class=\"dataframe\">\n",
       "  <thead>\n",
       "    <tr style=\"text-align: right;\">\n",
       "      <th></th>\n",
       "      <th>delivery_time</th>\n",
       "      <th>sorting_time</th>\n",
       "      <th>st_sq</th>\n",
       "      <th>st_sqrt</th>\n",
       "      <th>st_log</th>\n",
       "      <th>st_sqrt4</th>\n",
       "    </tr>\n",
       "  </thead>\n",
       "  <tbody>\n",
       "    <tr>\n",
       "      <th>0</th>\n",
       "      <td>21.00</td>\n",
       "      <td>10</td>\n",
       "      <td>100</td>\n",
       "      <td>3.162278</td>\n",
       "      <td>2.302585</td>\n",
       "      <td>2.511886</td>\n",
       "    </tr>\n",
       "    <tr>\n",
       "      <th>1</th>\n",
       "      <td>13.50</td>\n",
       "      <td>4</td>\n",
       "      <td>16</td>\n",
       "      <td>2.000000</td>\n",
       "      <td>1.386294</td>\n",
       "      <td>1.741101</td>\n",
       "    </tr>\n",
       "    <tr>\n",
       "      <th>2</th>\n",
       "      <td>19.75</td>\n",
       "      <td>6</td>\n",
       "      <td>36</td>\n",
       "      <td>2.449490</td>\n",
       "      <td>1.791759</td>\n",
       "      <td>2.047673</td>\n",
       "    </tr>\n",
       "    <tr>\n",
       "      <th>3</th>\n",
       "      <td>24.00</td>\n",
       "      <td>9</td>\n",
       "      <td>81</td>\n",
       "      <td>3.000000</td>\n",
       "      <td>2.197225</td>\n",
       "      <td>2.408225</td>\n",
       "    </tr>\n",
       "    <tr>\n",
       "      <th>4</th>\n",
       "      <td>29.00</td>\n",
       "      <td>10</td>\n",
       "      <td>100</td>\n",
       "      <td>3.162278</td>\n",
       "      <td>2.302585</td>\n",
       "      <td>2.511886</td>\n",
       "    </tr>\n",
       "    <tr>\n",
       "      <th>5</th>\n",
       "      <td>15.35</td>\n",
       "      <td>6</td>\n",
       "      <td>36</td>\n",
       "      <td>2.449490</td>\n",
       "      <td>1.791759</td>\n",
       "      <td>2.047673</td>\n",
       "    </tr>\n",
       "    <tr>\n",
       "      <th>6</th>\n",
       "      <td>19.00</td>\n",
       "      <td>7</td>\n",
       "      <td>49</td>\n",
       "      <td>2.645751</td>\n",
       "      <td>1.945910</td>\n",
       "      <td>2.177906</td>\n",
       "    </tr>\n",
       "    <tr>\n",
       "      <th>7</th>\n",
       "      <td>9.50</td>\n",
       "      <td>3</td>\n",
       "      <td>9</td>\n",
       "      <td>1.732051</td>\n",
       "      <td>1.098612</td>\n",
       "      <td>1.551846</td>\n",
       "    </tr>\n",
       "    <tr>\n",
       "      <th>8</th>\n",
       "      <td>17.90</td>\n",
       "      <td>10</td>\n",
       "      <td>100</td>\n",
       "      <td>3.162278</td>\n",
       "      <td>2.302585</td>\n",
       "      <td>2.511886</td>\n",
       "    </tr>\n",
       "    <tr>\n",
       "      <th>9</th>\n",
       "      <td>18.75</td>\n",
       "      <td>9</td>\n",
       "      <td>81</td>\n",
       "      <td>3.000000</td>\n",
       "      <td>2.197225</td>\n",
       "      <td>2.408225</td>\n",
       "    </tr>\n",
       "    <tr>\n",
       "      <th>10</th>\n",
       "      <td>19.83</td>\n",
       "      <td>8</td>\n",
       "      <td>64</td>\n",
       "      <td>2.828427</td>\n",
       "      <td>2.079442</td>\n",
       "      <td>2.297397</td>\n",
       "    </tr>\n",
       "    <tr>\n",
       "      <th>11</th>\n",
       "      <td>10.75</td>\n",
       "      <td>4</td>\n",
       "      <td>16</td>\n",
       "      <td>2.000000</td>\n",
       "      <td>1.386294</td>\n",
       "      <td>1.741101</td>\n",
       "    </tr>\n",
       "    <tr>\n",
       "      <th>12</th>\n",
       "      <td>16.68</td>\n",
       "      <td>7</td>\n",
       "      <td>49</td>\n",
       "      <td>2.645751</td>\n",
       "      <td>1.945910</td>\n",
       "      <td>2.177906</td>\n",
       "    </tr>\n",
       "    <tr>\n",
       "      <th>13</th>\n",
       "      <td>11.50</td>\n",
       "      <td>3</td>\n",
       "      <td>9</td>\n",
       "      <td>1.732051</td>\n",
       "      <td>1.098612</td>\n",
       "      <td>1.551846</td>\n",
       "    </tr>\n",
       "    <tr>\n",
       "      <th>14</th>\n",
       "      <td>12.03</td>\n",
       "      <td>3</td>\n",
       "      <td>9</td>\n",
       "      <td>1.732051</td>\n",
       "      <td>1.098612</td>\n",
       "      <td>1.551846</td>\n",
       "    </tr>\n",
       "    <tr>\n",
       "      <th>15</th>\n",
       "      <td>14.88</td>\n",
       "      <td>4</td>\n",
       "      <td>16</td>\n",
       "      <td>2.000000</td>\n",
       "      <td>1.386294</td>\n",
       "      <td>1.741101</td>\n",
       "    </tr>\n",
       "    <tr>\n",
       "      <th>16</th>\n",
       "      <td>13.75</td>\n",
       "      <td>6</td>\n",
       "      <td>36</td>\n",
       "      <td>2.449490</td>\n",
       "      <td>1.791759</td>\n",
       "      <td>2.047673</td>\n",
       "    </tr>\n",
       "    <tr>\n",
       "      <th>17</th>\n",
       "      <td>18.11</td>\n",
       "      <td>7</td>\n",
       "      <td>49</td>\n",
       "      <td>2.645751</td>\n",
       "      <td>1.945910</td>\n",
       "      <td>2.177906</td>\n",
       "    </tr>\n",
       "    <tr>\n",
       "      <th>18</th>\n",
       "      <td>8.00</td>\n",
       "      <td>2</td>\n",
       "      <td>4</td>\n",
       "      <td>1.414214</td>\n",
       "      <td>0.693147</td>\n",
       "      <td>1.319508</td>\n",
       "    </tr>\n",
       "    <tr>\n",
       "      <th>19</th>\n",
       "      <td>17.83</td>\n",
       "      <td>7</td>\n",
       "      <td>49</td>\n",
       "      <td>2.645751</td>\n",
       "      <td>1.945910</td>\n",
       "      <td>2.177906</td>\n",
       "    </tr>\n",
       "    <tr>\n",
       "      <th>20</th>\n",
       "      <td>21.50</td>\n",
       "      <td>5</td>\n",
       "      <td>25</td>\n",
       "      <td>2.236068</td>\n",
       "      <td>1.609438</td>\n",
       "      <td>1.903654</td>\n",
       "    </tr>\n",
       "  </tbody>\n",
       "</table>\n",
       "</div>"
      ],
      "text/plain": [
       "    delivery_time  sorting_time  st_sq   st_sqrt    st_log  st_sqrt4\n",
       "0           21.00            10    100  3.162278  2.302585  2.511886\n",
       "1           13.50             4     16  2.000000  1.386294  1.741101\n",
       "2           19.75             6     36  2.449490  1.791759  2.047673\n",
       "3           24.00             9     81  3.000000  2.197225  2.408225\n",
       "4           29.00            10    100  3.162278  2.302585  2.511886\n",
       "5           15.35             6     36  2.449490  1.791759  2.047673\n",
       "6           19.00             7     49  2.645751  1.945910  2.177906\n",
       "7            9.50             3      9  1.732051  1.098612  1.551846\n",
       "8           17.90            10    100  3.162278  2.302585  2.511886\n",
       "9           18.75             9     81  3.000000  2.197225  2.408225\n",
       "10          19.83             8     64  2.828427  2.079442  2.297397\n",
       "11          10.75             4     16  2.000000  1.386294  1.741101\n",
       "12          16.68             7     49  2.645751  1.945910  2.177906\n",
       "13          11.50             3      9  1.732051  1.098612  1.551846\n",
       "14          12.03             3      9  1.732051  1.098612  1.551846\n",
       "15          14.88             4     16  2.000000  1.386294  1.741101\n",
       "16          13.75             6     36  2.449490  1.791759  2.047673\n",
       "17          18.11             7     49  2.645751  1.945910  2.177906\n",
       "18           8.00             2      4  1.414214  0.693147  1.319508\n",
       "19          17.83             7     49  2.645751  1.945910  2.177906\n",
       "20          21.50             5     25  2.236068  1.609438  1.903654"
      ]
     },
     "execution_count": 10,
     "metadata": {},
     "output_type": "execute_result"
    }
   ],
   "source": [
    "Delivery"
   ]
  },
  {
   "cell_type": "markdown",
   "id": "35484fae",
   "metadata": {},
   "source": [
    "# Correlation Analysis"
   ]
  },
  {
   "cell_type": "code",
   "execution_count": 11,
   "id": "08c31b54",
   "metadata": {},
   "outputs": [
    {
     "data": {
      "text/html": [
       "<div>\n",
       "<style scoped>\n",
       "    .dataframe tbody tr th:only-of-type {\n",
       "        vertical-align: middle;\n",
       "    }\n",
       "\n",
       "    .dataframe tbody tr th {\n",
       "        vertical-align: top;\n",
       "    }\n",
       "\n",
       "    .dataframe thead th {\n",
       "        text-align: right;\n",
       "    }\n",
       "</style>\n",
       "<table border=\"1\" class=\"dataframe\">\n",
       "  <thead>\n",
       "    <tr style=\"text-align: right;\">\n",
       "      <th></th>\n",
       "      <th>delivery_time</th>\n",
       "      <th>sorting_time</th>\n",
       "      <th>st_sq</th>\n",
       "      <th>st_sqrt</th>\n",
       "      <th>st_log</th>\n",
       "      <th>st_sqrt4</th>\n",
       "    </tr>\n",
       "  </thead>\n",
       "  <tbody>\n",
       "    <tr>\n",
       "      <th>delivery_time</th>\n",
       "      <td>1.000000</td>\n",
       "      <td>0.825997</td>\n",
       "      <td>0.793906</td>\n",
       "      <td>0.834150</td>\n",
       "      <td>0.833933</td>\n",
       "      <td>0.834847</td>\n",
       "    </tr>\n",
       "    <tr>\n",
       "      <th>sorting_time</th>\n",
       "      <td>0.825997</td>\n",
       "      <td>1.000000</td>\n",
       "      <td>0.983967</td>\n",
       "      <td>0.994704</td>\n",
       "      <td>0.977447</td>\n",
       "      <td>0.992266</td>\n",
       "    </tr>\n",
       "    <tr>\n",
       "      <th>st_sq</th>\n",
       "      <td>0.793906</td>\n",
       "      <td>0.983967</td>\n",
       "      <td>1.000000</td>\n",
       "      <td>0.960816</td>\n",
       "      <td>0.925659</td>\n",
       "      <td>0.954766</td>\n",
       "    </tr>\n",
       "    <tr>\n",
       "      <th>st_sqrt</th>\n",
       "      <td>0.834150</td>\n",
       "      <td>0.994704</td>\n",
       "      <td>0.960816</td>\n",
       "      <td>1.000000</td>\n",
       "      <td>0.993904</td>\n",
       "      <td>0.999768</td>\n",
       "    </tr>\n",
       "    <tr>\n",
       "      <th>st_log</th>\n",
       "      <td>0.833933</td>\n",
       "      <td>0.977447</td>\n",
       "      <td>0.925659</td>\n",
       "      <td>0.993904</td>\n",
       "      <td>1.000000</td>\n",
       "      <td>0.996045</td>\n",
       "    </tr>\n",
       "    <tr>\n",
       "      <th>st_sqrt4</th>\n",
       "      <td>0.834847</td>\n",
       "      <td>0.992266</td>\n",
       "      <td>0.954766</td>\n",
       "      <td>0.999768</td>\n",
       "      <td>0.996045</td>\n",
       "      <td>1.000000</td>\n",
       "    </tr>\n",
       "  </tbody>\n",
       "</table>\n",
       "</div>"
      ],
      "text/plain": [
       "               delivery_time  sorting_time     st_sq   st_sqrt    st_log  \\\n",
       "delivery_time       1.000000      0.825997  0.793906  0.834150  0.833933   \n",
       "sorting_time        0.825997      1.000000  0.983967  0.994704  0.977447   \n",
       "st_sq               0.793906      0.983967  1.000000  0.960816  0.925659   \n",
       "st_sqrt             0.834150      0.994704  0.960816  1.000000  0.993904   \n",
       "st_log              0.833933      0.977447  0.925659  0.993904  1.000000   \n",
       "st_sqrt4            0.834847      0.992266  0.954766  0.999768  0.996045   \n",
       "\n",
       "               st_sqrt4  \n",
       "delivery_time  0.834847  \n",
       "sorting_time   0.992266  \n",
       "st_sq          0.954766  \n",
       "st_sqrt        0.999768  \n",
       "st_log         0.996045  \n",
       "st_sqrt4       1.000000  "
      ]
     },
     "execution_count": 11,
     "metadata": {},
     "output_type": "execute_result"
    }
   ],
   "source": [
    "Delivery.corr()"
   ]
  },
  {
   "cell_type": "code",
   "execution_count": 12,
   "id": "af5138ce",
   "metadata": {},
   "outputs": [
    {
     "data": {
      "text/plain": [
       "<AxesSubplot:xlabel='delivery_time', ylabel='sorting_time'>"
      ]
     },
     "execution_count": 12,
     "metadata": {},
     "output_type": "execute_result"
    },
    {
     "data": {
      "image/png": "[encoded data removed]",
      "text/plain": [
       "<Figure size 360x360 with 1 Axes>"
      ]
     },
     "metadata": {
      "needs_background": "light"
     },
     "output_type": "display_data"
    }
   ],
   "source": [
    "plt.figure(figsize =(5,5))\n",
    "sns.scatterplot(Delivery['delivery_time'],Delivery['sorting_time'],color='Red')"
   ]
  },
  {
   "cell_type": "markdown",
   "id": "0a3335fb",
   "metadata": {},
   "source": [
    "Correlation between delivery_time and sorting_time seems low"
   ]
  },
  {
   "cell_type": "code",
   "execution_count": 13,
   "id": "eef9fdf5",
   "metadata": {},
   "outputs": [
    {
     "data": {
      "text/plain": [
       "<AxesSubplot:xlabel='delivery_time', ylabel='Density'>"
      ]
     },
     "execution_count": 13,
     "metadata": {},
     "output_type": "execute_result"
    },
    {
     "data": {
      "image/png": "[encoded data removed]",
      "text/plain": [
       "<Figure size 432x288 with 1 Axes>"
      ]
     },
     "metadata": {
      "needs_background": "light"
     },
     "output_type": "display_data"
    }
   ],
   "source": [
    "sns.distplot(Delivery['delivery_time'])"
   ]
  },
  {
   "cell_type": "code",
   "execution_count": 14,
   "id": "295f569d",
   "metadata": {},
   "outputs": [
    {
     "data": {
      "text/plain": [
       "<AxesSubplot:xlabel='sorting_time', ylabel='Density'>"
      ]
     },
     "execution_count": 14,
     "metadata": {},
     "output_type": "execute_result"
    },
    {
     "data": {
      "image/png": "[encoded data removed]",
      "text/plain": [
       "<Figure size 432x288 with 1 Axes>"
      ]
     },
     "metadata": {
      "needs_background": "light"
     },
     "output_type": "display_data"
    }
   ],
   "source": [
    "sns.distplot(Delivery['sorting_time'])"
   ]
  },
  {
   "cell_type": "code",
   "execution_count": 15,
   "id": "15fa71c1",
   "metadata": {},
   "outputs": [
    {
     "data": {
      "text/plain": [
       "(array([3., 5., 5., 6., 1., 1.]),\n",
       " array([ 8. , 11.5, 15. , 18.5, 22. , 25.5, 29. ]),\n",
       " <BarContainer object of 6 artists>)"
      ]
     },
     "execution_count": 15,
     "metadata": {},
     "output_type": "execute_result"
    },
    {
     "data": {
      "image/png": "[encoded data removed]",
      "text/plain": [
       "<Figure size 432x288 with 1 Axes>"
      ]
     },
     "metadata": {
      "needs_background": "light"
     },
     "output_type": "display_data"
    }
   ],
   "source": [
    "plt.hist(Delivery['delivery_time'],bins=6)"
   ]
  },
  {
   "cell_type": "code",
   "execution_count": 16,
   "id": "3f91f395",
   "metadata": {},
   "outputs": [
    {
     "data": {
      "text/plain": [
       "(array([4., 3., 1., 7., 1., 5.]),\n",
       " array([ 2.        ,  3.33333333,  4.66666667,  6.        ,  7.33333333,\n",
       "         8.66666667, 10.        ]),\n",
       " <BarContainer object of 6 artists>)"
      ]
     },
     "execution_count": 16,
     "metadata": {},
     "output_type": "execute_result"
    },
    {
     "data": {
      "image/png": "[encoded data removed]",
      "text/plain": [
       "<Figure size 432x288 with 1 Axes>"
      ]
     },
     "metadata": {
      "needs_background": "light"
     },
     "output_type": "display_data"
    }
   ],
   "source": [
    "plt.hist(Delivery['sorting_time'],bins=6)"
   ]
  },
  {
   "cell_type": "markdown",
   "id": "11476995",
   "metadata": {},
   "source": [
    "# Model Building"
   ]
  },
  {
   "cell_type": "code",
   "execution_count": 17,
   "id": "225a4da4",
   "metadata": {},
   "outputs": [],
   "source": [
    "model1=smf.ols('delivery_time~sorting_time',data=Delivery).fit()\n",
    "model1_sq=smf.ols('delivery_time~st_sq',data=Delivery).fit()\n",
    "model1_sqrt=smf.ols('delivery_time~st_sqrt',data=Delivery).fit()\n",
    "model1_log=smf.ols('delivery_time~st_log',data=Delivery).fit()\n",
    "model1_sqrt4=smf.ols('delivery_time~st_sqrt4',data=Delivery).fit()"
   ]
  },
  {
   "cell_type": "markdown",
   "id": "95a423cc",
   "metadata": {},
   "source": [
    "# Model Testing"
   ]
  },
  {
   "cell_type": "code",
   "execution_count": 18,
   "id": "60edd041",
   "metadata": {},
   "outputs": [
    {
     "name": "stdout",
     "output_type": "stream",
     "text": [
      "Intercept       6.582734\n",
      "sorting_time    1.649020\n",
      "dtype: float64\n",
      "Intercept    11.237205\n",
      "st_sq         0.124870\n",
      "dtype: float64\n",
      "Intercept   -2.518837\n",
      "st_sqrt      7.936591\n",
      "dtype: float64\n",
      "Intercept    1.159684\n",
      "st_log       9.043413\n",
      "dtype: float64\n",
      "Intercept    -7.050883\n",
      "st_sqrt4     11.751321\n",
      "dtype: float64\n"
     ]
    }
   ],
   "source": [
    "print(model1.params)\n",
    "print(model1_sq.params)\n",
    "print(model1_sqrt.params)\n",
    "print(model1_log.params)\n",
    "print(model1_sqrt4.params)"
   ]
  },
  {
   "cell_type": "code",
   "execution_count": 19,
   "id": "2e5fe042",
   "metadata": {},
   "outputs": [
    {
     "name": "stdout",
     "output_type": "stream",
     "text": [
      "Intercept       3.823349\n",
      "sorting_time    6.387447\n",
      "dtype: float64\n",
      "Intercept    9.398601\n",
      "st_sq        5.691330\n",
      "dtype: float64\n",
      "Intercept   -0.840911\n",
      "st_sqrt      6.592434\n",
      "dtype: float64\n",
      "Intercept    0.472460\n",
      "st_log       6.586789\n",
      "dtype: float64\n",
      "Intercept   -1.926237\n",
      "st_sqrt4     6.610589\n",
      "dtype: float64\n"
     ]
    }
   ],
   "source": [
    "print(model1.tvalues)\n",
    "print(model1_sq.tvalues)\n",
    "print(model1_sqrt.tvalues)\n",
    "print(model1_log.tvalues)\n",
    "print(model1_sqrt4.tvalues)"
   ]
  },
  {
   "cell_type": "code",
   "execution_count": 20,
   "id": "b6714385",
   "metadata": {},
   "outputs": [
    {
     "name": "stdout",
     "output_type": "stream",
     "text": [
      "Intercept       0.001147\n",
      "sorting_time    0.000004\n",
      "dtype: float64\n",
      "Intercept    1.415704e-08\n",
      "st_sq        1.739194e-05\n",
      "dtype: float64\n",
      "Intercept    0.410857\n",
      "st_sqrt      0.000003\n",
      "dtype: float64\n",
      "Intercept    0.641980\n",
      "st_log       0.000003\n",
      "dtype: float64\n",
      "Intercept    0.069169\n",
      "st_sqrt4     0.000003\n",
      "dtype: float64\n"
     ]
    }
   ],
   "source": [
    "print(model1.pvalues)\n",
    "print(model1_sq.pvalues)\n",
    "print(model1_sqrt.pvalues)\n",
    "print(model1_log.pvalues)\n",
    "print(model1_sqrt4.pvalues)"
   ]
  },
  {
   "cell_type": "code",
   "execution_count": 21,
   "id": "5377fca4",
   "metadata": {},
   "outputs": [
    {
     "name": "stdout",
     "output_type": "stream",
     "text": [
      "0.6822714748417231\n",
      "0.6302871815826637\n",
      "0.695806227630867\n",
      "0.6954434611324223\n",
      "0.6969691412160728\n"
     ]
    }
   ],
   "source": [
    "print(model1.rsquared)\n",
    "print(model1_sq.rsquared)\n",
    "print(model1_sqrt.rsquared)\n",
    "print(model1_log.rsquared)\n",
    "print(model1_sqrt4.rsquared)"
   ]
  },
  {
   "cell_type": "code",
   "execution_count": 22,
   "id": "18f949aa",
   "metadata": {},
   "outputs": [
    {
     "name": "stdout",
     "output_type": "stream",
     "text": [
      "0.6655489208860244\n",
      "0.6108286121922777\n",
      "0.6797960290851232\n",
      "0.6794141696130761\n",
      "0.6810201486484977\n"
     ]
    }
   ],
   "source": [
    "print(model1.rsquared_adj)\n",
    "print(model1_sq.rsquared_adj)\n",
    "print(model1_sqrt.rsquared_adj)\n",
    "print(model1_log.rsquared_adj)\n",
    "print(model1_sqrt4.rsquared_adj)"
   ]
  },
  {
   "cell_type": "markdown",
   "id": "3e9fffd9",
   "metadata": {},
   "source": [
    "# Model Prediction"
   ]
  },
  {
   "cell_type": "code",
   "execution_count": 23,
   "id": "73564479",
   "metadata": {},
   "outputs": [
    {
     "data": {
      "text/html": [
       "<div>\n",
       "<style scoped>\n",
       "    .dataframe tbody tr th:only-of-type {\n",
       "        vertical-align: middle;\n",
       "    }\n",
       "\n",
       "    .dataframe tbody tr th {\n",
       "        vertical-align: top;\n",
       "    }\n",
       "\n",
       "    .dataframe thead th {\n",
       "        text-align: right;\n",
       "    }\n",
       "</style>\n",
       "<table border=\"1\" class=\"dataframe\">\n",
       "  <thead>\n",
       "    <tr style=\"text-align: right;\">\n",
       "      <th></th>\n",
       "      <th>delivery_time</th>\n",
       "      <th>sorting_time</th>\n",
       "      <th>st_sq</th>\n",
       "      <th>st_sqrt</th>\n",
       "      <th>st_log</th>\n",
       "      <th>st_sqrt4</th>\n",
       "      <th>predicted</th>\n",
       "    </tr>\n",
       "  </thead>\n",
       "  <tbody>\n",
       "    <tr>\n",
       "      <th>0</th>\n",
       "      <td>21.00</td>\n",
       "      <td>10</td>\n",
       "      <td>100</td>\n",
       "      <td>3.162278</td>\n",
       "      <td>2.302585</td>\n",
       "      <td>2.511886</td>\n",
       "      <td>22.467100</td>\n",
       "    </tr>\n",
       "    <tr>\n",
       "      <th>1</th>\n",
       "      <td>13.50</td>\n",
       "      <td>4</td>\n",
       "      <td>16</td>\n",
       "      <td>2.000000</td>\n",
       "      <td>1.386294</td>\n",
       "      <td>1.741101</td>\n",
       "      <td>13.409355</td>\n",
       "    </tr>\n",
       "    <tr>\n",
       "      <th>2</th>\n",
       "      <td>19.75</td>\n",
       "      <td>6</td>\n",
       "      <td>36</td>\n",
       "      <td>2.449490</td>\n",
       "      <td>1.791759</td>\n",
       "      <td>2.047673</td>\n",
       "      <td>17.011974</td>\n",
       "    </tr>\n",
       "    <tr>\n",
       "      <th>3</th>\n",
       "      <td>24.00</td>\n",
       "      <td>9</td>\n",
       "      <td>81</td>\n",
       "      <td>3.000000</td>\n",
       "      <td>2.197225</td>\n",
       "      <td>2.408225</td>\n",
       "      <td>21.248938</td>\n",
       "    </tr>\n",
       "    <tr>\n",
       "      <th>4</th>\n",
       "      <td>29.00</td>\n",
       "      <td>10</td>\n",
       "      <td>100</td>\n",
       "      <td>3.162278</td>\n",
       "      <td>2.302585</td>\n",
       "      <td>2.511886</td>\n",
       "      <td>22.467100</td>\n",
       "    </tr>\n",
       "    <tr>\n",
       "      <th>5</th>\n",
       "      <td>15.35</td>\n",
       "      <td>6</td>\n",
       "      <td>36</td>\n",
       "      <td>2.449490</td>\n",
       "      <td>1.791759</td>\n",
       "      <td>2.047673</td>\n",
       "      <td>17.011974</td>\n",
       "    </tr>\n",
       "    <tr>\n",
       "      <th>6</th>\n",
       "      <td>19.00</td>\n",
       "      <td>7</td>\n",
       "      <td>49</td>\n",
       "      <td>2.645751</td>\n",
       "      <td>1.945910</td>\n",
       "      <td>2.177906</td>\n",
       "      <td>18.542394</td>\n",
       "    </tr>\n",
       "    <tr>\n",
       "      <th>7</th>\n",
       "      <td>9.50</td>\n",
       "      <td>3</td>\n",
       "      <td>9</td>\n",
       "      <td>1.732051</td>\n",
       "      <td>1.098612</td>\n",
       "      <td>1.551846</td>\n",
       "      <td>11.185352</td>\n",
       "    </tr>\n",
       "    <tr>\n",
       "      <th>8</th>\n",
       "      <td>17.90</td>\n",
       "      <td>10</td>\n",
       "      <td>100</td>\n",
       "      <td>3.162278</td>\n",
       "      <td>2.302585</td>\n",
       "      <td>2.511886</td>\n",
       "      <td>22.467100</td>\n",
       "    </tr>\n",
       "    <tr>\n",
       "      <th>9</th>\n",
       "      <td>18.75</td>\n",
       "      <td>9</td>\n",
       "      <td>81</td>\n",
       "      <td>3.000000</td>\n",
       "      <td>2.197225</td>\n",
       "      <td>2.408225</td>\n",
       "      <td>21.248938</td>\n",
       "    </tr>\n",
       "    <tr>\n",
       "      <th>10</th>\n",
       "      <td>19.83</td>\n",
       "      <td>8</td>\n",
       "      <td>64</td>\n",
       "      <td>2.828427</td>\n",
       "      <td>2.079442</td>\n",
       "      <td>2.297397</td>\n",
       "      <td>19.946563</td>\n",
       "    </tr>\n",
       "    <tr>\n",
       "      <th>11</th>\n",
       "      <td>10.75</td>\n",
       "      <td>4</td>\n",
       "      <td>16</td>\n",
       "      <td>2.000000</td>\n",
       "      <td>1.386294</td>\n",
       "      <td>1.741101</td>\n",
       "      <td>13.409355</td>\n",
       "    </tr>\n",
       "    <tr>\n",
       "      <th>12</th>\n",
       "      <td>16.68</td>\n",
       "      <td>7</td>\n",
       "      <td>49</td>\n",
       "      <td>2.645751</td>\n",
       "      <td>1.945910</td>\n",
       "      <td>2.177906</td>\n",
       "      <td>18.542394</td>\n",
       "    </tr>\n",
       "    <tr>\n",
       "      <th>13</th>\n",
       "      <td>11.50</td>\n",
       "      <td>3</td>\n",
       "      <td>9</td>\n",
       "      <td>1.732051</td>\n",
       "      <td>1.098612</td>\n",
       "      <td>1.551846</td>\n",
       "      <td>11.185352</td>\n",
       "    </tr>\n",
       "    <tr>\n",
       "      <th>14</th>\n",
       "      <td>12.03</td>\n",
       "      <td>3</td>\n",
       "      <td>9</td>\n",
       "      <td>1.732051</td>\n",
       "      <td>1.098612</td>\n",
       "      <td>1.551846</td>\n",
       "      <td>11.185352</td>\n",
       "    </tr>\n",
       "    <tr>\n",
       "      <th>15</th>\n",
       "      <td>14.88</td>\n",
       "      <td>4</td>\n",
       "      <td>16</td>\n",
       "      <td>2.000000</td>\n",
       "      <td>1.386294</td>\n",
       "      <td>1.741101</td>\n",
       "      <td>13.409355</td>\n",
       "    </tr>\n",
       "    <tr>\n",
       "      <th>16</th>\n",
       "      <td>13.75</td>\n",
       "      <td>6</td>\n",
       "      <td>36</td>\n",
       "      <td>2.449490</td>\n",
       "      <td>1.791759</td>\n",
       "      <td>2.047673</td>\n",
       "      <td>17.011974</td>\n",
       "    </tr>\n",
       "    <tr>\n",
       "      <th>17</th>\n",
       "      <td>18.11</td>\n",
       "      <td>7</td>\n",
       "      <td>49</td>\n",
       "      <td>2.645751</td>\n",
       "      <td>1.945910</td>\n",
       "      <td>2.177906</td>\n",
       "      <td>18.542394</td>\n",
       "    </tr>\n",
       "    <tr>\n",
       "      <th>18</th>\n",
       "      <td>8.00</td>\n",
       "      <td>2</td>\n",
       "      <td>4</td>\n",
       "      <td>1.414214</td>\n",
       "      <td>0.693147</td>\n",
       "      <td>1.319508</td>\n",
       "      <td>8.455078</td>\n",
       "    </tr>\n",
       "    <tr>\n",
       "      <th>19</th>\n",
       "      <td>17.83</td>\n",
       "      <td>7</td>\n",
       "      <td>49</td>\n",
       "      <td>2.645751</td>\n",
       "      <td>1.945910</td>\n",
       "      <td>2.177906</td>\n",
       "      <td>18.542394</td>\n",
       "    </tr>\n",
       "    <tr>\n",
       "      <th>20</th>\n",
       "      <td>21.50</td>\n",
       "      <td>5</td>\n",
       "      <td>25</td>\n",
       "      <td>2.236068</td>\n",
       "      <td>1.609438</td>\n",
       "      <td>1.903654</td>\n",
       "      <td>15.319565</td>\n",
       "    </tr>\n",
       "  </tbody>\n",
       "</table>\n",
       "</div>"
      ],
      "text/plain": [
       "    delivery_time  sorting_time  st_sq   st_sqrt    st_log  st_sqrt4  \\\n",
       "0           21.00            10    100  3.162278  2.302585  2.511886   \n",
       "1           13.50             4     16  2.000000  1.386294  1.741101   \n",
       "2           19.75             6     36  2.449490  1.791759  2.047673   \n",
       "3           24.00             9     81  3.000000  2.197225  2.408225   \n",
       "4           29.00            10    100  3.162278  2.302585  2.511886   \n",
       "5           15.35             6     36  2.449490  1.791759  2.047673   \n",
       "6           19.00             7     49  2.645751  1.945910  2.177906   \n",
       "7            9.50             3      9  1.732051  1.098612  1.551846   \n",
       "8           17.90            10    100  3.162278  2.302585  2.511886   \n",
       "9           18.75             9     81  3.000000  2.197225  2.408225   \n",
       "10          19.83             8     64  2.828427  2.079442  2.297397   \n",
       "11          10.75             4     16  2.000000  1.386294  1.741101   \n",
       "12          16.68             7     49  2.645751  1.945910  2.177906   \n",
       "13          11.50             3      9  1.732051  1.098612  1.551846   \n",
       "14          12.03             3      9  1.732051  1.098612  1.551846   \n",
       "15          14.88             4     16  2.000000  1.386294  1.741101   \n",
       "16          13.75             6     36  2.449490  1.791759  2.047673   \n",
       "17          18.11             7     49  2.645751  1.945910  2.177906   \n",
       "18           8.00             2      4  1.414214  0.693147  1.319508   \n",
       "19          17.83             7     49  2.645751  1.945910  2.177906   \n",
       "20          21.50             5     25  2.236068  1.609438  1.903654   \n",
       "\n",
       "    predicted  \n",
       "0   22.467100  \n",
       "1   13.409355  \n",
       "2   17.011974  \n",
       "3   21.248938  \n",
       "4   22.467100  \n",
       "5   17.011974  \n",
       "6   18.542394  \n",
       "7   11.185352  \n",
       "8   22.467100  \n",
       "9   21.248938  \n",
       "10  19.946563  \n",
       "11  13.409355  \n",
       "12  18.542394  \n",
       "13  11.185352  \n",
       "14  11.185352  \n",
       "15  13.409355  \n",
       "16  17.011974  \n",
       "17  18.542394  \n",
       "18   8.455078  \n",
       "19  18.542394  \n",
       "20  15.319565  "
      ]
     },
     "execution_count": 23,
     "metadata": {},
     "output_type": "execute_result"
    }
   ],
   "source": [
    "Delivery['predicted']=model1_sqrt4.fittedvalues\n",
    "Delivery"
   ]
  },
  {
   "cell_type": "code",
   "execution_count": 24,
   "id": "51f14d80",
   "metadata": {},
   "outputs": [
    {
     "data": {
      "text/html": [
       "<div>\n",
       "<style scoped>\n",
       "    .dataframe tbody tr th:only-of-type {\n",
       "        vertical-align: middle;\n",
       "    }\n",
       "\n",
       "    .dataframe tbody tr th {\n",
       "        vertical-align: top;\n",
       "    }\n",
       "\n",
       "    .dataframe thead th {\n",
       "        text-align: right;\n",
       "    }\n",
       "</style>\n",
       "<table border=\"1\" class=\"dataframe\">\n",
       "  <thead>\n",
       "    <tr style=\"text-align: right;\">\n",
       "      <th></th>\n",
       "      <th>sorting_time</th>\n",
       "      <th>st_sqrt4</th>\n",
       "    </tr>\n",
       "  </thead>\n",
       "  <tbody>\n",
       "    <tr>\n",
       "      <th>0</th>\n",
       "      <td>7.0</td>\n",
       "      <td>2.177906</td>\n",
       "    </tr>\n",
       "    <tr>\n",
       "      <th>1</th>\n",
       "      <td>6.5</td>\n",
       "      <td>2.114294</td>\n",
       "    </tr>\n",
       "  </tbody>\n",
       "</table>\n",
       "</div>"
      ],
      "text/plain": [
       "   sorting_time  st_sqrt4\n",
       "0           7.0  2.177906\n",
       "1           6.5  2.114294"
      ]
     },
     "execution_count": 24,
     "metadata": {},
     "output_type": "execute_result"
    }
   ],
   "source": [
    "new=pd.DataFrame({'sorting_time':[7,6.5]})\n",
    "new['st_sqrt4']=new.sorting_time**0.4\n",
    "new"
   ]
  },
  {
   "cell_type": "code",
   "execution_count": 25,
   "id": "cb477a20",
   "metadata": {},
   "outputs": [
    {
     "data": {
      "text/html": [
       "<div>\n",
       "<style scoped>\n",
       "    .dataframe tbody tr th:only-of-type {\n",
       "        vertical-align: middle;\n",
       "    }\n",
       "\n",
       "    .dataframe tbody tr th {\n",
       "        vertical-align: top;\n",
       "    }\n",
       "\n",
       "    .dataframe thead th {\n",
       "        text-align: right;\n",
       "    }\n",
       "</style>\n",
       "<table border=\"1\" class=\"dataframe\">\n",
       "  <thead>\n",
       "    <tr style=\"text-align: right;\">\n",
       "      <th></th>\n",
       "      <th>sorting_time</th>\n",
       "      <th>st_sqrt4</th>\n",
       "      <th>predicted</th>\n",
       "    </tr>\n",
       "  </thead>\n",
       "  <tbody>\n",
       "    <tr>\n",
       "      <th>0</th>\n",
       "      <td>7.0</td>\n",
       "      <td>2.177906</td>\n",
       "      <td>18.542394</td>\n",
       "    </tr>\n",
       "    <tr>\n",
       "      <th>1</th>\n",
       "      <td>6.5</td>\n",
       "      <td>2.114294</td>\n",
       "      <td>17.794862</td>\n",
       "    </tr>\n",
       "  </tbody>\n",
       "</table>\n",
       "</div>"
      ],
      "text/plain": [
       "   sorting_time  st_sqrt4  predicted\n",
       "0           7.0  2.177906  18.542394\n",
       "1           6.5  2.114294  17.794862"
      ]
     },
     "execution_count": 25,
     "metadata": {},
     "output_type": "execute_result"
    }
   ],
   "source": [
    "new['predicted']=model1_sqrt4.predict(new)\n",
    "new"
   ]
  },
  {
   "cell_type": "markdown",
   "id": "32880f74",
   "metadata": {},
   "source": [
    "# Q2"
   ]
  },
  {
   "cell_type": "markdown",
   "id": "3f453a48",
   "metadata": {},
   "source": [
    "# 2) Salary_hike -> Build a prediction model for Salary_hike"
   ]
  },
  {
   "cell_type": "code",
   "execution_count": 26,
   "id": "b3881ad3",
   "metadata": {},
   "outputs": [
    {
     "data": {
      "text/html": [
       "<div>\n",
       "<style scoped>\n",
       "    .dataframe tbody tr th:only-of-type {\n",
       "        vertical-align: middle;\n",
       "    }\n",
       "\n",
       "    .dataframe tbody tr th {\n",
       "        vertical-align: top;\n",
       "    }\n",
       "\n",
       "    .dataframe thead th {\n",
       "        text-align: right;\n",
       "    }\n",
       "</style>\n",
       "<table border=\"1\" class=\"dataframe\">\n",
       "  <thead>\n",
       "    <tr style=\"text-align: right;\">\n",
       "      <th></th>\n",
       "      <th>YearsExperience</th>\n",
       "      <th>Salary</th>\n",
       "    </tr>\n",
       "  </thead>\n",
       "  <tbody>\n",
       "    <tr>\n",
       "      <th>0</th>\n",
       "      <td>1.1</td>\n",
       "      <td>39343.0</td>\n",
       "    </tr>\n",
       "    <tr>\n",
       "      <th>1</th>\n",
       "      <td>1.3</td>\n",
       "      <td>46205.0</td>\n",
       "    </tr>\n",
       "    <tr>\n",
       "      <th>2</th>\n",
       "      <td>1.5</td>\n",
       "      <td>37731.0</td>\n",
       "    </tr>\n",
       "    <tr>\n",
       "      <th>3</th>\n",
       "      <td>2.0</td>\n",
       "      <td>43525.0</td>\n",
       "    </tr>\n",
       "    <tr>\n",
       "      <th>4</th>\n",
       "      <td>2.2</td>\n",
       "      <td>39891.0</td>\n",
       "    </tr>\n",
       "    <tr>\n",
       "      <th>5</th>\n",
       "      <td>2.9</td>\n",
       "      <td>56642.0</td>\n",
       "    </tr>\n",
       "    <tr>\n",
       "      <th>6</th>\n",
       "      <td>3.0</td>\n",
       "      <td>60150.0</td>\n",
       "    </tr>\n",
       "    <tr>\n",
       "      <th>7</th>\n",
       "      <td>3.2</td>\n",
       "      <td>54445.0</td>\n",
       "    </tr>\n",
       "    <tr>\n",
       "      <th>8</th>\n",
       "      <td>3.2</td>\n",
       "      <td>64445.0</td>\n",
       "    </tr>\n",
       "    <tr>\n",
       "      <th>9</th>\n",
       "      <td>3.7</td>\n",
       "      <td>57189.0</td>\n",
       "    </tr>\n",
       "    <tr>\n",
       "      <th>10</th>\n",
       "      <td>3.9</td>\n",
       "      <td>63218.0</td>\n",
       "    </tr>\n",
       "    <tr>\n",
       "      <th>11</th>\n",
       "      <td>4.0</td>\n",
       "      <td>55794.0</td>\n",
       "    </tr>\n",
       "    <tr>\n",
       "      <th>12</th>\n",
       "      <td>4.0</td>\n",
       "      <td>56957.0</td>\n",
       "    </tr>\n",
       "    <tr>\n",
       "      <th>13</th>\n",
       "      <td>4.1</td>\n",
       "      <td>57081.0</td>\n",
       "    </tr>\n",
       "    <tr>\n",
       "      <th>14</th>\n",
       "      <td>4.5</td>\n",
       "      <td>61111.0</td>\n",
       "    </tr>\n",
       "    <tr>\n",
       "      <th>15</th>\n",
       "      <td>4.9</td>\n",
       "      <td>67938.0</td>\n",
       "    </tr>\n",
       "    <tr>\n",
       "      <th>16</th>\n",
       "      <td>5.1</td>\n",
       "      <td>66029.0</td>\n",
       "    </tr>\n",
       "    <tr>\n",
       "      <th>17</th>\n",
       "      <td>5.3</td>\n",
       "      <td>83088.0</td>\n",
       "    </tr>\n",
       "    <tr>\n",
       "      <th>18</th>\n",
       "      <td>5.9</td>\n",
       "      <td>81363.0</td>\n",
       "    </tr>\n",
       "    <tr>\n",
       "      <th>19</th>\n",
       "      <td>6.0</td>\n",
       "      <td>93940.0</td>\n",
       "    </tr>\n",
       "    <tr>\n",
       "      <th>20</th>\n",
       "      <td>6.8</td>\n",
       "      <td>91738.0</td>\n",
       "    </tr>\n",
       "    <tr>\n",
       "      <th>21</th>\n",
       "      <td>7.1</td>\n",
       "      <td>98273.0</td>\n",
       "    </tr>\n",
       "    <tr>\n",
       "      <th>22</th>\n",
       "      <td>7.9</td>\n",
       "      <td>101302.0</td>\n",
       "    </tr>\n",
       "    <tr>\n",
       "      <th>23</th>\n",
       "      <td>8.2</td>\n",
       "      <td>113812.0</td>\n",
       "    </tr>\n",
       "    <tr>\n",
       "      <th>24</th>\n",
       "      <td>8.7</td>\n",
       "      <td>109431.0</td>\n",
       "    </tr>\n",
       "    <tr>\n",
       "      <th>25</th>\n",
       "      <td>9.0</td>\n",
       "      <td>105582.0</td>\n",
       "    </tr>\n",
       "    <tr>\n",
       "      <th>26</th>\n",
       "      <td>9.5</td>\n",
       "      <td>116969.0</td>\n",
       "    </tr>\n",
       "    <tr>\n",
       "      <th>27</th>\n",
       "      <td>9.6</td>\n",
       "      <td>112635.0</td>\n",
       "    </tr>\n",
       "    <tr>\n",
       "      <th>28</th>\n",
       "      <td>10.3</td>\n",
       "      <td>122391.0</td>\n",
       "    </tr>\n",
       "    <tr>\n",
       "      <th>29</th>\n",
       "      <td>10.5</td>\n",
       "      <td>121872.0</td>\n",
       "    </tr>\n",
       "  </tbody>\n",
       "</table>\n",
       "</div>"
      ],
      "text/plain": [
       "    YearsExperience    Salary\n",
       "0               1.1   39343.0\n",
       "1               1.3   46205.0\n",
       "2               1.5   37731.0\n",
       "3               2.0   43525.0\n",
       "4               2.2   39891.0\n",
       "5               2.9   56642.0\n",
       "6               3.0   60150.0\n",
       "7               3.2   54445.0\n",
       "8               3.2   64445.0\n",
       "9               3.7   57189.0\n",
       "10              3.9   63218.0\n",
       "11              4.0   55794.0\n",
       "12              4.0   56957.0\n",
       "13              4.1   57081.0\n",
       "14              4.5   61111.0\n",
       "15              4.9   67938.0\n",
       "16              5.1   66029.0\n",
       "17              5.3   83088.0\n",
       "18              5.9   81363.0\n",
       "19              6.0   93940.0\n",
       "20              6.8   91738.0\n",
       "21              7.1   98273.0\n",
       "22              7.9  101302.0\n",
       "23              8.2  113812.0\n",
       "24              8.7  109431.0\n",
       "25              9.0  105582.0\n",
       "26              9.5  116969.0\n",
       "27              9.6  112635.0\n",
       "28             10.3  122391.0\n",
       "29             10.5  121872.0"
      ]
     },
     "execution_count": 26,
     "metadata": {},
     "output_type": "execute_result"
    }
   ],
   "source": [
    "salary_hike=pd.read_csv('C:\\\\Users\\\\lenovo\\\\Downloads\\\\Salary_Data.csv')\n",
    "salary_hike"
   ]
  },
  {
   "cell_type": "code",
   "execution_count": 27,
   "id": "e5ee6071",
   "metadata": {},
   "outputs": [
    {
     "name": "stdout",
     "output_type": "stream",
     "text": [
      "<class 'pandas.core.frame.DataFrame'>\n",
      "RangeIndex: 30 entries, 0 to 29\n",
      "Data columns (total 2 columns):\n",
      " #   Column           Non-Null Count  Dtype  \n",
      "---  ------           --------------  -----  \n",
      " 0   YearsExperience  30 non-null     float64\n",
      " 1   Salary           30 non-null     float64\n",
      "dtypes: float64(2)\n",
      "memory usage: 608.0 bytes\n"
     ]
    }
   ],
   "source": [
    "#Checking missing value\n",
    "salary_hike.info()"
   ]
  },
  {
   "cell_type": "markdown",
   "id": "acdbedb2",
   "metadata": {},
   "source": [
    "No Missing value"
   ]
  },
  {
   "cell_type": "code",
   "execution_count": 28,
   "id": "5838cf06",
   "metadata": {},
   "outputs": [
    {
     "data": {
      "text/html": [
       "<div>\n",
       "<style scoped>\n",
       "    .dataframe tbody tr th:only-of-type {\n",
       "        vertical-align: middle;\n",
       "    }\n",
       "\n",
       "    .dataframe tbody tr th {\n",
       "        vertical-align: top;\n",
       "    }\n",
       "\n",
       "    .dataframe thead th {\n",
       "        text-align: right;\n",
       "    }\n",
       "</style>\n",
       "<table border=\"1\" class=\"dataframe\">\n",
       "  <thead>\n",
       "    <tr style=\"text-align: right;\">\n",
       "      <th></th>\n",
       "      <th>YearsExperience</th>\n",
       "      <th>Salary</th>\n",
       "    </tr>\n",
       "  </thead>\n",
       "  <tbody>\n",
       "  </tbody>\n",
       "</table>\n",
       "</div>"
      ],
      "text/plain": [
       "Empty DataFrame\n",
       "Columns: [YearsExperience, Salary]\n",
       "Index: []"
      ]
     },
     "execution_count": 28,
     "metadata": {},
     "output_type": "execute_result"
    }
   ],
   "source": [
    "#checking duplicate value\n",
    "salary_hike[salary_hike.duplicated()]"
   ]
  },
  {
   "cell_type": "markdown",
   "id": "7182dbc9",
   "metadata": {},
   "source": [
    "No Duplicated values"
   ]
  },
  {
   "cell_type": "code",
   "execution_count": 29,
   "id": "de8281ae",
   "metadata": {},
   "outputs": [
    {
     "data": {
      "text/plain": [
       "<AxesSubplot:>"
      ]
     },
     "execution_count": 29,
     "metadata": {},
     "output_type": "execute_result"
    },
    {
     "data": {
      "image/png": "[encoded data removed]",
      "text/plain": [
       "<Figure size 432x288 with 1 Axes>"
      ]
     },
     "metadata": {
      "needs_background": "light"
     },
     "output_type": "display_data"
    }
   ],
   "source": [
    "#Checking outlier\n",
    "salary_hike.YearsExperience.plot(kind='box')"
   ]
  },
  {
   "cell_type": "code",
   "execution_count": 30,
   "id": "754877f6",
   "metadata": {},
   "outputs": [
    {
     "data": {
      "text/plain": [
       "<AxesSubplot:>"
      ]
     },
     "execution_count": 30,
     "metadata": {},
     "output_type": "execute_result"
    },
    {
     "data": {
      "image/png": "[encoded data removed]",
      "text/plain": [
       "<Figure size 432x288 with 1 Axes>"
      ]
     },
     "metadata": {
      "needs_background": "light"
     },
     "output_type": "display_data"
    }
   ],
   "source": [
    "salary_hike.Salary.plot(kind='box')"
   ]
  },
  {
   "cell_type": "markdown",
   "id": "6eb55c96",
   "metadata": {},
   "source": [
    "There are no outliers in the data"
   ]
  },
  {
   "cell_type": "markdown",
   "id": "cc349d59",
   "metadata": {},
   "source": [
    "# Checking correlation"
   ]
  },
  {
   "cell_type": "code",
   "execution_count": 31,
   "id": "6b380095",
   "metadata": {},
   "outputs": [
    {
     "data": {
      "text/plain": [
       "<AxesSubplot:xlabel='YearsExperience', ylabel='Salary'>"
      ]
     },
     "execution_count": 31,
     "metadata": {},
     "output_type": "execute_result"
    },
    {
     "data": {
      "image/png": "[encoded data removed]",
      "text/plain": [
       "<Figure size 360x360 with 1 Axes>"
      ]
     },
     "metadata": {
      "needs_background": "light"
     },
     "output_type": "display_data"
    }
   ],
   "source": [
    "plt.figure(figsize=(5,5))\n",
    "sns.scatterplot(salary_hike['YearsExperience'],salary_hike['Salary'],color='Red')"
   ]
  },
  {
   "cell_type": "code",
   "execution_count": 32,
   "id": "5fa5b946",
   "metadata": {},
   "outputs": [
    {
     "data": {
      "text/html": [
       "<div>\n",
       "<style scoped>\n",
       "    .dataframe tbody tr th:only-of-type {\n",
       "        vertical-align: middle;\n",
       "    }\n",
       "\n",
       "    .dataframe tbody tr th {\n",
       "        vertical-align: top;\n",
       "    }\n",
       "\n",
       "    .dataframe thead th {\n",
       "        text-align: right;\n",
       "    }\n",
       "</style>\n",
       "<table border=\"1\" class=\"dataframe\">\n",
       "  <thead>\n",
       "    <tr style=\"text-align: right;\">\n",
       "      <th></th>\n",
       "      <th>YearsExperience</th>\n",
       "      <th>Salary</th>\n",
       "    </tr>\n",
       "  </thead>\n",
       "  <tbody>\n",
       "    <tr>\n",
       "      <th>YearsExperience</th>\n",
       "      <td>1.000000</td>\n",
       "      <td>0.978242</td>\n",
       "    </tr>\n",
       "    <tr>\n",
       "      <th>Salary</th>\n",
       "      <td>0.978242</td>\n",
       "      <td>1.000000</td>\n",
       "    </tr>\n",
       "  </tbody>\n",
       "</table>\n",
       "</div>"
      ],
      "text/plain": [
       "                 YearsExperience    Salary\n",
       "YearsExperience         1.000000  0.978242\n",
       "Salary                  0.978242  1.000000"
      ]
     },
     "execution_count": 32,
     "metadata": {},
     "output_type": "execute_result"
    },
    {
     "data": {
      "image/png": "[encoded data removed]",
      "text/plain": [
       "<Figure size 432x288 with 1 Axes>"
      ]
     },
     "metadata": {
      "needs_background": "light"
     },
     "output_type": "display_data"
    }
   ],
   "source": [
    "sns.distplot(salary_hike['YearsExperience'])\n",
    "salary_hike.corr()"
   ]
  },
  {
   "cell_type": "code",
   "execution_count": 33,
   "id": "504de158",
   "metadata": {},
   "outputs": [
    {
     "data": {
      "text/plain": [
       "<AxesSubplot:xlabel='Salary', ylabel='Density'>"
      ]
     },
     "execution_count": 33,
     "metadata": {},
     "output_type": "execute_result"
    },
    {
     "data": {
      "image/png": "[encoded data removed]",
      "text/plain": [
       "<Figure size 432x288 with 1 Axes>"
      ]
     },
     "metadata": {
      "needs_background": "light"
     },
     "output_type": "display_data"
    }
   ],
   "source": [
    "sns.distplot(salary_hike['Salary'])"
   ]
  },
  {
   "cell_type": "markdown",
   "id": "59458f58",
   "metadata": {},
   "source": [
    "# Years and salary seems to be highly correlated"
   ]
  },
  {
   "cell_type": "markdown",
   "id": "5a33c5b3",
   "metadata": {},
   "source": [
    "# Trying different transformations"
   ]
  },
  {
   "cell_type": "code",
   "execution_count": 34,
   "id": "60145025",
   "metadata": {},
   "outputs": [],
   "source": [
    "import numpy as np\n",
    "salary_hike['ye_sq']=salary_hike.YearsExperience**2\n",
    "salary_hike['ye_sqrt']=salary_hike.YearsExperience**0.5\n",
    "salary_hike['ye_log']=np.log(salary_hike.YearsExperience)"
   ]
  },
  {
   "cell_type": "code",
   "execution_count": 35,
   "id": "6bbd867e",
   "metadata": {},
   "outputs": [
    {
     "data": {
      "text/html": [
       "<div>\n",
       "<style scoped>\n",
       "    .dataframe tbody tr th:only-of-type {\n",
       "        vertical-align: middle;\n",
       "    }\n",
       "\n",
       "    .dataframe tbody tr th {\n",
       "        vertical-align: top;\n",
       "    }\n",
       "\n",
       "    .dataframe thead th {\n",
       "        text-align: right;\n",
       "    }\n",
       "</style>\n",
       "<table border=\"1\" class=\"dataframe\">\n",
       "  <thead>\n",
       "    <tr style=\"text-align: right;\">\n",
       "      <th></th>\n",
       "      <th>YearsExperience</th>\n",
       "      <th>Salary</th>\n",
       "      <th>ye_sq</th>\n",
       "      <th>ye_sqrt</th>\n",
       "      <th>ye_log</th>\n",
       "    </tr>\n",
       "  </thead>\n",
       "  <tbody>\n",
       "    <tr>\n",
       "      <th>YearsExperience</th>\n",
       "      <td>1.000000</td>\n",
       "      <td>0.978242</td>\n",
       "      <td>0.977067</td>\n",
       "      <td>0.989850</td>\n",
       "      <td>0.953797</td>\n",
       "    </tr>\n",
       "    <tr>\n",
       "      <th>Salary</th>\n",
       "      <td>0.978242</td>\n",
       "      <td>1.000000</td>\n",
       "      <td>0.956724</td>\n",
       "      <td>0.964884</td>\n",
       "      <td>0.924061</td>\n",
       "    </tr>\n",
       "    <tr>\n",
       "      <th>ye_sq</th>\n",
       "      <td>0.977067</td>\n",
       "      <td>0.956724</td>\n",
       "      <td>1.000000</td>\n",
       "      <td>0.937950</td>\n",
       "      <td>0.872019</td>\n",
       "    </tr>\n",
       "    <tr>\n",
       "      <th>ye_sqrt</th>\n",
       "      <td>0.989850</td>\n",
       "      <td>0.964884</td>\n",
       "      <td>0.937950</td>\n",
       "      <td>1.000000</td>\n",
       "      <td>0.986620</td>\n",
       "    </tr>\n",
       "    <tr>\n",
       "      <th>ye_log</th>\n",
       "      <td>0.953797</td>\n",
       "      <td>0.924061</td>\n",
       "      <td>0.872019</td>\n",
       "      <td>0.986620</td>\n",
       "      <td>1.000000</td>\n",
       "    </tr>\n",
       "  </tbody>\n",
       "</table>\n",
       "</div>"
      ],
      "text/plain": [
       "                 YearsExperience    Salary     ye_sq   ye_sqrt    ye_log\n",
       "YearsExperience         1.000000  0.978242  0.977067  0.989850  0.953797\n",
       "Salary                  0.978242  1.000000  0.956724  0.964884  0.924061\n",
       "ye_sq                   0.977067  0.956724  1.000000  0.937950  0.872019\n",
       "ye_sqrt                 0.989850  0.964884  0.937950  1.000000  0.986620\n",
       "ye_log                  0.953797  0.924061  0.872019  0.986620  1.000000"
      ]
     },
     "execution_count": 35,
     "metadata": {},
     "output_type": "execute_result"
    }
   ],
   "source": [
    "salary_hike.corr()"
   ]
  },
  {
   "cell_type": "code",
   "execution_count": 36,
   "id": "77d167b3",
   "metadata": {},
   "outputs": [
    {
     "data": {
      "text/plain": [
       "<seaborn.axisgrid.PairGrid at 0x1da11d73670>"
      ]
     },
     "execution_count": 36,
     "metadata": {},
     "output_type": "execute_result"
    },
    {
     "data": {
      "image/png": "[encoded data removed]",
      "text/plain": [
       "<Figure size 900x900 with 30 Axes>"
      ]
     },
     "metadata": {
      "needs_background": "light"
     },
     "output_type": "display_data"
    }
   ],
   "source": [
    "sns.pairplot(salary_hike)"
   ]
  },
  {
   "cell_type": "markdown",
   "id": "94a8c641",
   "metadata": {},
   "source": [
    "# Making model"
   ]
  },
  {
   "cell_type": "code",
   "execution_count": 37,
   "id": "8c42a274",
   "metadata": {},
   "outputs": [],
   "source": [
    "model1=smf.ols(\"Salary~YearsExperience\",data=salary_hike).fit()\n",
    "model1_sqrt=smf.ols('Salary~ye_sqrt',data=salary_hike).fit()\n",
    "model_sq=smf.ols('Salary~ye_sq',data=salary_hike).fit()"
   ]
  },
  {
   "cell_type": "code",
   "execution_count": 39,
   "id": "c1e3a8ab",
   "metadata": {},
   "outputs": [
    {
     "name": "stdout",
     "output_type": "stream",
     "text": [
      "0.9569566641435086 0.9310009544993526 0.9153198857852564\n"
     ]
    }
   ],
   "source": [
    "print(model1.rsquared,model1_sqrt.rsquared,model_sq.rsquared)"
   ]
  },
  {
   "cell_type": "markdown",
   "id": "e59b68a4",
   "metadata": {},
   "source": [
    "# Unstransformed data has higher rsquared value even though others had similar or higher correlation"
   ]
  },
  {
   "cell_type": "markdown",
   "id": "97470fe3",
   "metadata": {},
   "source": [
    "# rsquared value is above 95%"
   ]
  },
  {
   "cell_type": "code",
   "execution_count": 42,
   "id": "f8e10cf1",
   "metadata": {},
   "outputs": [
    {
     "data": {
      "text/plain": [
       "Intercept          25792.200199\n",
       "YearsExperience     9449.962321\n",
       "dtype: float64"
      ]
     },
     "execution_count": 42,
     "metadata": {},
     "output_type": "execute_result"
    }
   ],
   "source": [
    "model1.params"
   ]
  },
  {
   "cell_type": "code",
   "execution_count": 43,
   "id": "5d4c2baf",
   "metadata": {},
   "outputs": [
    {
     "data": {
      "text/plain": [
       "0      36187.158752\n",
       "1      38077.151217\n",
       "2      39967.143681\n",
       "3      44692.124842\n",
       "4      46582.117306\n",
       "5      53197.090931\n",
       "6      54142.087163\n",
       "7      56032.079627\n",
       "8      56032.079627\n",
       "9      60757.060788\n",
       "10     62647.053252\n",
       "11     63592.049484\n",
       "12     63592.049484\n",
       "13     64537.045717\n",
       "14     68317.030645\n",
       "15     72097.015574\n",
       "16     73987.008038\n",
       "17     75877.000502\n",
       "18     81546.977895\n",
       "19     82491.974127\n",
       "20     90051.943985\n",
       "21     92886.932681\n",
       "22    100446.902538\n",
       "23    103281.891235\n",
       "24    108006.872395\n",
       "25    110841.861092\n",
       "26    115566.842252\n",
       "27    116511.838485\n",
       "28    123126.812110\n",
       "29    125016.804574\n",
       "dtype: float64"
      ]
     },
     "execution_count": 43,
     "metadata": {},
     "output_type": "execute_result"
    }
   ],
   "source": [
    "model1.fittedvalues"
   ]
  },
  {
   "cell_type": "code",
   "execution_count": 45,
   "id": "d761776c",
   "metadata": {},
   "outputs": [
    {
     "data": {
      "text/plain": [
       "<matplotlib.collections.PathCollection at 0x1da12e40d30>"
      ]
     },
     "execution_count": 45,
     "metadata": {},
     "output_type": "execute_result"
    },
    {
     "data": {
      "image/png": "[encoded data removed]",
      "text/plain": [
       "<Figure size 360x360 with 1 Axes>"
      ]
     },
     "metadata": {
      "needs_background": "light"
     },
     "output_type": "display_data"
    }
   ],
   "source": [
    "fig=plt.figure(figsize=(5,5))\n",
    "plt.plot(salary_hike[\"YearsExperience\"],model1.fittedvalues)\n",
    "plt.scatter(salary_hike[\"YearsExperience\"],salary_hike.Salary)"
   ]
  },
  {
   "cell_type": "code",
   "execution_count": 47,
   "id": "0f7b6b48",
   "metadata": {},
   "outputs": [
    {
     "data": {
      "text/plain": [
       "Intercept          5.511950e-12\n",
       "YearsExperience    1.143068e-20\n",
       "dtype: float64"
      ]
     },
     "execution_count": 47,
     "metadata": {},
     "output_type": "execute_result"
    }
   ],
   "source": [
    "model1.resid\n",
    "model1.rsquared\n",
    "model1.pvalues"
   ]
  },
  {
   "cell_type": "code",
   "execution_count": 48,
   "id": "a6aeb46c",
   "metadata": {},
   "outputs": [],
   "source": [
    "salary_hike[\"predicted\"]=model1.fittedvalues"
   ]
  },
  {
   "cell_type": "code",
   "execution_count": 49,
   "id": "f3a12e94",
   "metadata": {},
   "outputs": [
    {
     "data": {
      "text/html": [
       "<div>\n",
       "<style scoped>\n",
       "    .dataframe tbody tr th:only-of-type {\n",
       "        vertical-align: middle;\n",
       "    }\n",
       "\n",
       "    .dataframe tbody tr th {\n",
       "        vertical-align: top;\n",
       "    }\n",
       "\n",
       "    .dataframe thead th {\n",
       "        text-align: right;\n",
       "    }\n",
       "</style>\n",
       "<table border=\"1\" class=\"dataframe\">\n",
       "  <thead>\n",
       "    <tr style=\"text-align: right;\">\n",
       "      <th></th>\n",
       "      <th>YearsExperience</th>\n",
       "      <th>Salary</th>\n",
       "      <th>ye_sq</th>\n",
       "      <th>ye_sqrt</th>\n",
       "      <th>ye_log</th>\n",
       "      <th>predicted</th>\n",
       "    </tr>\n",
       "  </thead>\n",
       "  <tbody>\n",
       "    <tr>\n",
       "      <th>0</th>\n",
       "      <td>1.1</td>\n",
       "      <td>39343.0</td>\n",
       "      <td>1.21</td>\n",
       "      <td>1.048809</td>\n",
       "      <td>0.095310</td>\n",
       "      <td>36187.158752</td>\n",
       "    </tr>\n",
       "    <tr>\n",
       "      <th>1</th>\n",
       "      <td>1.3</td>\n",
       "      <td>46205.0</td>\n",
       "      <td>1.69</td>\n",
       "      <td>1.140175</td>\n",
       "      <td>0.262364</td>\n",
       "      <td>38077.151217</td>\n",
       "    </tr>\n",
       "    <tr>\n",
       "      <th>2</th>\n",
       "      <td>1.5</td>\n",
       "      <td>37731.0</td>\n",
       "      <td>2.25</td>\n",
       "      <td>1.224745</td>\n",
       "      <td>0.405465</td>\n",
       "      <td>39967.143681</td>\n",
       "    </tr>\n",
       "    <tr>\n",
       "      <th>3</th>\n",
       "      <td>2.0</td>\n",
       "      <td>43525.0</td>\n",
       "      <td>4.00</td>\n",
       "      <td>1.414214</td>\n",
       "      <td>0.693147</td>\n",
       "      <td>44692.124842</td>\n",
       "    </tr>\n",
       "    <tr>\n",
       "      <th>4</th>\n",
       "      <td>2.2</td>\n",
       "      <td>39891.0</td>\n",
       "      <td>4.84</td>\n",
       "      <td>1.483240</td>\n",
       "      <td>0.788457</td>\n",
       "      <td>46582.117306</td>\n",
       "    </tr>\n",
       "    <tr>\n",
       "      <th>5</th>\n",
       "      <td>2.9</td>\n",
       "      <td>56642.0</td>\n",
       "      <td>8.41</td>\n",
       "      <td>1.702939</td>\n",
       "      <td>1.064711</td>\n",
       "      <td>53197.090931</td>\n",
       "    </tr>\n",
       "    <tr>\n",
       "      <th>6</th>\n",
       "      <td>3.0</td>\n",
       "      <td>60150.0</td>\n",
       "      <td>9.00</td>\n",
       "      <td>1.732051</td>\n",
       "      <td>1.098612</td>\n",
       "      <td>54142.087163</td>\n",
       "    </tr>\n",
       "    <tr>\n",
       "      <th>7</th>\n",
       "      <td>3.2</td>\n",
       "      <td>54445.0</td>\n",
       "      <td>10.24</td>\n",
       "      <td>1.788854</td>\n",
       "      <td>1.163151</td>\n",
       "      <td>56032.079627</td>\n",
       "    </tr>\n",
       "    <tr>\n",
       "      <th>8</th>\n",
       "      <td>3.2</td>\n",
       "      <td>64445.0</td>\n",
       "      <td>10.24</td>\n",
       "      <td>1.788854</td>\n",
       "      <td>1.163151</td>\n",
       "      <td>56032.079627</td>\n",
       "    </tr>\n",
       "    <tr>\n",
       "      <th>9</th>\n",
       "      <td>3.7</td>\n",
       "      <td>57189.0</td>\n",
       "      <td>13.69</td>\n",
       "      <td>1.923538</td>\n",
       "      <td>1.308333</td>\n",
       "      <td>60757.060788</td>\n",
       "    </tr>\n",
       "    <tr>\n",
       "      <th>10</th>\n",
       "      <td>3.9</td>\n",
       "      <td>63218.0</td>\n",
       "      <td>15.21</td>\n",
       "      <td>1.974842</td>\n",
       "      <td>1.360977</td>\n",
       "      <td>62647.053252</td>\n",
       "    </tr>\n",
       "    <tr>\n",
       "      <th>11</th>\n",
       "      <td>4.0</td>\n",
       "      <td>55794.0</td>\n",
       "      <td>16.00</td>\n",
       "      <td>2.000000</td>\n",
       "      <td>1.386294</td>\n",
       "      <td>63592.049484</td>\n",
       "    </tr>\n",
       "    <tr>\n",
       "      <th>12</th>\n",
       "      <td>4.0</td>\n",
       "      <td>56957.0</td>\n",
       "      <td>16.00</td>\n",
       "      <td>2.000000</td>\n",
       "      <td>1.386294</td>\n",
       "      <td>63592.049484</td>\n",
       "    </tr>\n",
       "    <tr>\n",
       "      <th>13</th>\n",
       "      <td>4.1</td>\n",
       "      <td>57081.0</td>\n",
       "      <td>16.81</td>\n",
       "      <td>2.024846</td>\n",
       "      <td>1.410987</td>\n",
       "      <td>64537.045717</td>\n",
       "    </tr>\n",
       "    <tr>\n",
       "      <th>14</th>\n",
       "      <td>4.5</td>\n",
       "      <td>61111.0</td>\n",
       "      <td>20.25</td>\n",
       "      <td>2.121320</td>\n",
       "      <td>1.504077</td>\n",
       "      <td>68317.030645</td>\n",
       "    </tr>\n",
       "    <tr>\n",
       "      <th>15</th>\n",
       "      <td>4.9</td>\n",
       "      <td>67938.0</td>\n",
       "      <td>24.01</td>\n",
       "      <td>2.213594</td>\n",
       "      <td>1.589235</td>\n",
       "      <td>72097.015574</td>\n",
       "    </tr>\n",
       "    <tr>\n",
       "      <th>16</th>\n",
       "      <td>5.1</td>\n",
       "      <td>66029.0</td>\n",
       "      <td>26.01</td>\n",
       "      <td>2.258318</td>\n",
       "      <td>1.629241</td>\n",
       "      <td>73987.008038</td>\n",
       "    </tr>\n",
       "    <tr>\n",
       "      <th>17</th>\n",
       "      <td>5.3</td>\n",
       "      <td>83088.0</td>\n",
       "      <td>28.09</td>\n",
       "      <td>2.302173</td>\n",
       "      <td>1.667707</td>\n",
       "      <td>75877.000502</td>\n",
       "    </tr>\n",
       "    <tr>\n",
       "      <th>18</th>\n",
       "      <td>5.9</td>\n",
       "      <td>81363.0</td>\n",
       "      <td>34.81</td>\n",
       "      <td>2.428992</td>\n",
       "      <td>1.774952</td>\n",
       "      <td>81546.977895</td>\n",
       "    </tr>\n",
       "    <tr>\n",
       "      <th>19</th>\n",
       "      <td>6.0</td>\n",
       "      <td>93940.0</td>\n",
       "      <td>36.00</td>\n",
       "      <td>2.449490</td>\n",
       "      <td>1.791759</td>\n",
       "      <td>82491.974127</td>\n",
       "    </tr>\n",
       "    <tr>\n",
       "      <th>20</th>\n",
       "      <td>6.8</td>\n",
       "      <td>91738.0</td>\n",
       "      <td>46.24</td>\n",
       "      <td>2.607681</td>\n",
       "      <td>1.916923</td>\n",
       "      <td>90051.943985</td>\n",
       "    </tr>\n",
       "    <tr>\n",
       "      <th>21</th>\n",
       "      <td>7.1</td>\n",
       "      <td>98273.0</td>\n",
       "      <td>50.41</td>\n",
       "      <td>2.664583</td>\n",
       "      <td>1.960095</td>\n",
       "      <td>92886.932681</td>\n",
       "    </tr>\n",
       "    <tr>\n",
       "      <th>22</th>\n",
       "      <td>7.9</td>\n",
       "      <td>101302.0</td>\n",
       "      <td>62.41</td>\n",
       "      <td>2.810694</td>\n",
       "      <td>2.066863</td>\n",
       "      <td>100446.902538</td>\n",
       "    </tr>\n",
       "    <tr>\n",
       "      <th>23</th>\n",
       "      <td>8.2</td>\n",
       "      <td>113812.0</td>\n",
       "      <td>67.24</td>\n",
       "      <td>2.863564</td>\n",
       "      <td>2.104134</td>\n",
       "      <td>103281.891235</td>\n",
       "    </tr>\n",
       "    <tr>\n",
       "      <th>24</th>\n",
       "      <td>8.7</td>\n",
       "      <td>109431.0</td>\n",
       "      <td>75.69</td>\n",
       "      <td>2.949576</td>\n",
       "      <td>2.163323</td>\n",
       "      <td>108006.872395</td>\n",
       "    </tr>\n",
       "    <tr>\n",
       "      <th>25</th>\n",
       "      <td>9.0</td>\n",
       "      <td>105582.0</td>\n",
       "      <td>81.00</td>\n",
       "      <td>3.000000</td>\n",
       "      <td>2.197225</td>\n",
       "      <td>110841.861092</td>\n",
       "    </tr>\n",
       "    <tr>\n",
       "      <th>26</th>\n",
       "      <td>9.5</td>\n",
       "      <td>116969.0</td>\n",
       "      <td>90.25</td>\n",
       "      <td>3.082207</td>\n",
       "      <td>2.251292</td>\n",
       "      <td>115566.842252</td>\n",
       "    </tr>\n",
       "    <tr>\n",
       "      <th>27</th>\n",
       "      <td>9.6</td>\n",
       "      <td>112635.0</td>\n",
       "      <td>92.16</td>\n",
       "      <td>3.098387</td>\n",
       "      <td>2.261763</td>\n",
       "      <td>116511.838485</td>\n",
       "    </tr>\n",
       "    <tr>\n",
       "      <th>28</th>\n",
       "      <td>10.3</td>\n",
       "      <td>122391.0</td>\n",
       "      <td>106.09</td>\n",
       "      <td>3.209361</td>\n",
       "      <td>2.332144</td>\n",
       "      <td>123126.812110</td>\n",
       "    </tr>\n",
       "    <tr>\n",
       "      <th>29</th>\n",
       "      <td>10.5</td>\n",
       "      <td>121872.0</td>\n",
       "      <td>110.25</td>\n",
       "      <td>3.240370</td>\n",
       "      <td>2.351375</td>\n",
       "      <td>125016.804574</td>\n",
       "    </tr>\n",
       "  </tbody>\n",
       "</table>\n",
       "</div>"
      ],
      "text/plain": [
       "    YearsExperience    Salary   ye_sq   ye_sqrt    ye_log      predicted\n",
       "0               1.1   39343.0    1.21  1.048809  0.095310   36187.158752\n",
       "1               1.3   46205.0    1.69  1.140175  0.262364   38077.151217\n",
       "2               1.5   37731.0    2.25  1.224745  0.405465   39967.143681\n",
       "3               2.0   43525.0    4.00  1.414214  0.693147   44692.124842\n",
       "4               2.2   39891.0    4.84  1.483240  0.788457   46582.117306\n",
       "5               2.9   56642.0    8.41  1.702939  1.064711   53197.090931\n",
       "6               3.0   60150.0    9.00  1.732051  1.098612   54142.087163\n",
       "7               3.2   54445.0   10.24  1.788854  1.163151   56032.079627\n",
       "8               3.2   64445.0   10.24  1.788854  1.163151   56032.079627\n",
       "9               3.7   57189.0   13.69  1.923538  1.308333   60757.060788\n",
       "10              3.9   63218.0   15.21  1.974842  1.360977   62647.053252\n",
       "11              4.0   55794.0   16.00  2.000000  1.386294   63592.049484\n",
       "12              4.0   56957.0   16.00  2.000000  1.386294   63592.049484\n",
       "13              4.1   57081.0   16.81  2.024846  1.410987   64537.045717\n",
       "14              4.5   61111.0   20.25  2.121320  1.504077   68317.030645\n",
       "15              4.9   67938.0   24.01  2.213594  1.589235   72097.015574\n",
       "16              5.1   66029.0   26.01  2.258318  1.629241   73987.008038\n",
       "17              5.3   83088.0   28.09  2.302173  1.667707   75877.000502\n",
       "18              5.9   81363.0   34.81  2.428992  1.774952   81546.977895\n",
       "19              6.0   93940.0   36.00  2.449490  1.791759   82491.974127\n",
       "20              6.8   91738.0   46.24  2.607681  1.916923   90051.943985\n",
       "21              7.1   98273.0   50.41  2.664583  1.960095   92886.932681\n",
       "22              7.9  101302.0   62.41  2.810694  2.066863  100446.902538\n",
       "23              8.2  113812.0   67.24  2.863564  2.104134  103281.891235\n",
       "24              8.7  109431.0   75.69  2.949576  2.163323  108006.872395\n",
       "25              9.0  105582.0   81.00  3.000000  2.197225  110841.861092\n",
       "26              9.5  116969.0   90.25  3.082207  2.251292  115566.842252\n",
       "27              9.6  112635.0   92.16  3.098387  2.261763  116511.838485\n",
       "28             10.3  122391.0  106.09  3.209361  2.332144  123126.812110\n",
       "29             10.5  121872.0  110.25  3.240370  2.351375  125016.804574"
      ]
     },
     "execution_count": 49,
     "metadata": {},
     "output_type": "execute_result"
    }
   ],
   "source": [
    "salary_hike"
   ]
  },
  {
   "cell_type": "markdown",
   "id": "83ec279b",
   "metadata": {},
   "source": [
    "# predicting for a new data"
   ]
  },
  {
   "cell_type": "code",
   "execution_count": 50,
   "id": "6b940809",
   "metadata": {},
   "outputs": [],
   "source": [
    "new=pd.DataFrame({'YearsExperience':[3,4.5]})"
   ]
  },
  {
   "cell_type": "code",
   "execution_count": 52,
   "id": "18b98c00",
   "metadata": {},
   "outputs": [
    {
     "data": {
      "text/plain": [
       "0    54142.087163\n",
       "1    68317.030645\n",
       "dtype: float64"
      ]
     },
     "execution_count": 52,
     "metadata": {},
     "output_type": "execute_result"
    }
   ],
   "source": [
    "model1.predict(new)"
   ]
  },
  {
   "cell_type": "code",
   "execution_count": 54,
   "id": "39d1d20f",
   "metadata": {},
   "outputs": [],
   "source": [
    "new['predict']=model1.predict(new)"
   ]
  },
  {
   "cell_type": "code",
   "execution_count": 55,
   "id": "c66b07c3",
   "metadata": {},
   "outputs": [
    {
     "data": {
      "text/html": [
       "<div>\n",
       "<style scoped>\n",
       "    .dataframe tbody tr th:only-of-type {\n",
       "        vertical-align: middle;\n",
       "    }\n",
       "\n",
       "    .dataframe tbody tr th {\n",
       "        vertical-align: top;\n",
       "    }\n",
       "\n",
       "    .dataframe thead th {\n",
       "        text-align: right;\n",
       "    }\n",
       "</style>\n",
       "<table border=\"1\" class=\"dataframe\">\n",
       "  <thead>\n",
       "    <tr style=\"text-align: right;\">\n",
       "      <th></th>\n",
       "      <th>YearsExperience</th>\n",
       "      <th>predict</th>\n",
       "    </tr>\n",
       "  </thead>\n",
       "  <tbody>\n",
       "    <tr>\n",
       "      <th>0</th>\n",
       "      <td>3.0</td>\n",
       "      <td>54142.087163</td>\n",
       "    </tr>\n",
       "    <tr>\n",
       "      <th>1</th>\n",
       "      <td>4.5</td>\n",
       "      <td>68317.030645</td>\n",
       "    </tr>\n",
       "  </tbody>\n",
       "</table>\n",
       "</div>"
      ],
      "text/plain": [
       "   YearsExperience       predict\n",
       "0              3.0  54142.087163\n",
       "1              4.5  68317.030645"
      ]
     },
     "execution_count": 55,
     "metadata": {},
     "output_type": "execute_result"
    }
   ],
   "source": [
    "new"
   ]
  },
  {
   "cell_type": "code",
   "execution_count": null,
   "id": "d8134ed4",
   "metadata": {},
   "outputs": [],
   "source": []
  },
  {
   "cell_type": "code",
   "execution_count": null,
   "id": "c75a72e7",
   "metadata": {},
   "outputs": [],
   "source": []
  }
 ],
 "metadata": {
  "kernelspec": {
   "display_name": "Python 3 (ipykernel)",
   "language": "python",
   "name": "python3"
  },
  "language_info": {
   "codemirror_mode": {
    "name": "ipython",
    "version": 3
   },
   "file_extension": ".py",
   "mimetype": "text/x-python",
   "name": "python",
   "nbconvert_exporter": "python",
   "pygments_lexer": "ipython3",
   "version": "3.9.12"
  }
 },
 "nbformat": 4,
 "nbformat_minor": 5
}
